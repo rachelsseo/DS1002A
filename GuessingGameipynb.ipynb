{
  "nbformat": 4,
  "nbformat_minor": 0,
  "metadata": {
    "colab": {
      "provenance": [],
      "authorship_tag": "ABX9TyM3zont3QJKm0LYXrEyd3gq",
      "include_colab_link": true
    },
    "kernelspec": {
      "name": "python3",
      "display_name": "Python 3"
    },
    "language_info": {
      "name": "python"
    }
  },
  "cells": [
    {
      "cell_type": "markdown",
      "metadata": {
        "id": "view-in-github",
        "colab_type": "text"
      },
      "source": [
        "<a href=\"https://colab.research.google.com/github/rachelsseo/DS1002A/blob/main/GuessingGameipynb.ipynb\" target=\"_parent\"><img src=\"https://colab.research.google.com/assets/colab-badge.svg\" alt=\"Open In Colab\"/></a>"
      ]
    },
    {
      "cell_type": "markdown",
      "source": [
        "> **GUESSING GAME**\n",
        "\n",
        "First, the computer chooses a random integer (whole number) between 0 and 100.\n",
        "\n",
        "Then the user is prompted to guess what the number is.\n",
        "\n",
        "Then:\n",
        "\n",
        "If the user’s guess is equal to the computer’s randomly generated number, then the code should print out a message saying something like “You got it!”, and the game ends.\n",
        "If the guess is too high, the computer should respond with “too high,” and likewise if the guess is too low.\n",
        "The game should not end until the user guesses correctly."
      ],
      "metadata": {
        "id": "kRsmRbmCfc0q"
      }
    },
    {
      "cell_type": "code",
      "execution_count": 15,
      "metadata": {
        "colab": {
          "base_uri": "https://localhost:8080/"
        },
        "id": "xSAWGo6lfYo9",
        "outputId": "504c85e3-b760-4ac5-aab6-aa133bdd4273"
      },
      "outputs": [
        {
          "output_type": "stream",
          "name": "stdout",
          "text": [
            "Guess the number (between 0 and 100): 4.5\n",
            "Please enter an integer.\n",
            "Guess the number (between 0 and 100): 40\n",
            "Too low.\n",
            "Guess the number (between 0 and 100): 50\n",
            "Too low.\n",
            "Guess the number (between 0 and 100): 70\n",
            "Too low.\n",
            "Guess the number (between 0 and 100): 80\n",
            "Too low.\n",
            "Guess the number (between 0 and 100): 90\n",
            "Too low.\n",
            "Guess the number (between 0 and 100): 100\n",
            "Too high.\n",
            "Guess the number (between 0 and 100): 99\n",
            "Too high.\n",
            "Guess the number (between 0 and 100): 9\n",
            "Too low.\n",
            "Guess the number (between 0 and 100): 97\n",
            "Too high.\n",
            "Guess the number (between 0 and 100): 95\n",
            "Too low.\n",
            "Guess the number (between 0 and 100): 96\n",
            "You got it!\n"
          ]
        }
      ],
      "source": [
        "import random\n",
        "\n",
        "def guess_number():\n",
        "    secret_number = random.randint(0, 100)\n",
        "\n",
        "    while True:\n",
        "        guess = input(\"Guess the number (between 0 and 100): \")\n",
        "\n",
        "        try:\n",
        "            guess = int(guess)\n",
        "        except ValueError:\n",
        "            print(\"Please enter an integer.\")\n",
        "            continue\n",
        "\n",
        "        if guess == secret_number:\n",
        "            print(\"You got it!\")\n",
        "            break\n",
        "\n",
        "        elif guess > secret_number:\n",
        "            print(\"Too high.\")\n",
        "\n",
        "        else:\n",
        "            print(\"Too low.\")\n",
        "\n",
        "guess_number()\n"
      ]
    }
  ]
}