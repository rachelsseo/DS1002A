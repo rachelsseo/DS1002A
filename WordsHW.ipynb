{
  "nbformat": 4,
  "nbformat_minor": 0,
  "metadata": {
    "colab": {
      "provenance": [],
      "include_colab_link": true
    },
    "kernelspec": {
      "name": "python3",
      "display_name": "Python 3"
    },
    "language_info": {
      "name": "python"
    }
  },
  "cells": [
    {
      "cell_type": "markdown",
      "metadata": {
        "id": "view-in-github",
        "colab_type": "text"
      },
      "source": [
        "<a href=\"https://colab.research.google.com/github/rachelsseo/DS1002A/blob/main/WordsHW.ipynb\" target=\"_parent\"><img src=\"https://colab.research.google.com/assets/colab-badge.svg\" alt=\"Open In Colab\"/></a>"
      ]
    },
    {
      "cell_type": "markdown",
      "source": [
        "\n",
        "### Assignment\n",
        "\n",
        "0.  Open a new colab notebook, and put this code into a code chunk at the top:\n",
        "```\n",
        "!pip install english_words\n",
        "from english_words import get_english_words_set\n",
        "words = get_english_words_set(['web2'], lower=True)\n",
        "```"
      ],
      "metadata": {
        "id": "eJU4Y9YpUmXB"
      }
    },
    {
      "cell_type": "code",
      "source": [
        "!pip install english_words\n",
        "from english_words import get_english_words_set\n",
        "words = get_english_words_set(['web2'], lower=True)"
      ],
      "metadata": {
        "colab": {
          "base_uri": "https://localhost:8080/"
        },
        "id": "shXMosXHLdmS",
        "outputId": "8b993183-d4cf-42a2-aab6-906b9bce4870"
      },
      "execution_count": 1,
      "outputs": [
        {
          "output_type": "stream",
          "name": "stdout",
          "text": [
            "Collecting english_words\n",
            "  Downloading english-words-2.0.1.tar.gz (8.2 MB)\n",
            "\u001b[2K     \u001b[90m━━━━━━━━━━━━━━━━━━━━━━━━━━━━━━━━━━━━━━━━\u001b[0m \u001b[32m8.2/8.2 MB\u001b[0m \u001b[31m14.4 MB/s\u001b[0m eta \u001b[36m0:00:00\u001b[0m\n",
            "\u001b[?25h  Installing build dependencies ... \u001b[?25l\u001b[?25hdone\n",
            "  Getting requirements to build wheel ... \u001b[?25l\u001b[?25hdone\n",
            "  Preparing metadata (pyproject.toml) ... \u001b[?25l\u001b[?25hdone\n",
            "Building wheels for collected packages: english_words\n",
            "  Building wheel for english_words (pyproject.toml) ... \u001b[?25l\u001b[?25hdone\n",
            "  Created wheel for english_words: filename=english_words-2.0.1-py3-none-any.whl size=8196238 sha256=a39d161b6b2c9fa6f6f92dc8437c64dc4b027d9ebfeaa0fc1377c619115b9813\n",
            "  Stored in directory: /root/.cache/pip/wheels/f0/e6/d9/16a123647999fe535f03a36e7af23eef203736d84c7ca25b0b\n",
            "Successfully built english_words\n",
            "Installing collected packages: english_words\n",
            "Successfully installed english_words-2.0.1\n"
          ]
        }
      ]
    },
    {
      "cell_type": "code",
      "source": [
        "# 1. The variable words is not yet a list. What is its data type? Convert it to a list called wordlist. How long is wordlist?\n",
        "\n",
        "type(words) #set\n",
        "\n",
        "wordlist = list(words)\n",
        "len(wordlist)"
      ],
      "metadata": {
        "colab": {
          "base_uri": "https://localhost:8080/"
        },
        "id": "lE7XJp54m3GV",
        "outputId": "204f85a7-1826-4e1b-fb70-e1ffc3f163e1"
      },
      "execution_count": 2,
      "outputs": [
        {
          "output_type": "execute_result",
          "data": {
            "text/plain": [
              "234450"
            ]
          },
          "metadata": {},
          "execution_count": 2
        }
      ]
    },
    {
      "cell_type": "code",
      "source": [
        "# 2. Print out the first ten words in wordlist. What do you notice?\n",
        "# I noticed that in the wordlist, they're all very random and sometimes not words that have a solid dictionary definition.\n",
        "\n",
        "wordlist[:10]"
      ],
      "metadata": {
        "colab": {
          "base_uri": "https://localhost:8080/"
        },
        "id": "0z3ZzILYptR9",
        "outputId": "34e33155-9b41-4258-e6bd-4282391d3e97"
      },
      "execution_count": 3,
      "outputs": [
        {
          "output_type": "execute_result",
          "data": {
            "text/plain": [
              "['irreviewable',\n",
              " 'lichenological',\n",
              " 'ventrosity',\n",
              " 'muttony',\n",
              " 'constitutional',\n",
              " 'confessarius',\n",
              " 'thioindigo',\n",
              " 'copemate',\n",
              " 'kirombo',\n",
              " 'circumvent']"
            ]
          },
          "metadata": {},
          "execution_count": 3
        }
      ]
    },
    {
      "cell_type": "code",
      "source": [
        "# 3. Make a list called alpha_list containing all the same words, but in alphabetical order. (Use the sorted() function.)\n",
        "# Print out the first ten words in alpha_list.\n",
        "\n",
        "alpha_list = sorted(wordlist)\n",
        "alpha_list[:10]\n"
      ],
      "metadata": {
        "colab": {
          "base_uri": "https://localhost:8080/"
        },
        "id": "oNo3K0wgq6-_",
        "outputId": "830e1109-1a62-43e8-e3e1-0c43cedfec3e"
      },
      "execution_count": 4,
      "outputs": [
        {
          "output_type": "execute_result",
          "data": {
            "text/plain": [
              "['a',\n",
              " 'aa',\n",
              " 'aal',\n",
              " 'aalii',\n",
              " 'aam',\n",
              " 'aani',\n",
              " 'aardvark',\n",
              " 'aardwolf',\n",
              " 'aaron',\n",
              " 'aaronic']"
            ]
          },
          "metadata": {},
          "execution_count": 4
        }
      ]
    },
    {
      "cell_type": "code",
      "source": [
        "# 4. How many words start with a?\n",
        "count_a = 0\n",
        "for n in alpha_list:\n",
        "  if n[0] == 'a':\n",
        "    count_a+=1\n",
        "\n",
        "print(str(count_a) + \" words start with 'a'\")"
      ],
      "metadata": {
        "colab": {
          "base_uri": "https://localhost:8080/"
        },
        "id": "rGmHyj8CxoK7",
        "outputId": "90eb07dd-90a7-4857-d43b-a7c0c427aecc"
      },
      "execution_count": 5,
      "outputs": [
        {
          "output_type": "stream",
          "name": "stdout",
          "text": [
            "16982 words start with 'a'\n"
          ]
        }
      ]
    },
    {
      "cell_type": "code",
      "source": [
        "# 5. How many words have a q in them?\n",
        "count_q = 0\n",
        "for n in alpha_list:\n",
        "  if 'q' in n:\n",
        "    count_q+=1\n",
        "\n",
        "print(str(count_q) + \" words start with 'q'\")\n",
        "\n",
        "# What fraction of words do not have an e?\n",
        "count_e = 0\n",
        "for n in alpha_list:\n",
        "  if 'e' in n:\n",
        "    count_e+=1\n",
        "no_e = len(alpha_list) - count_e\n",
        "percent_no_e = (no_e / len(alpha_list)) * 100\n",
        "print(str((round(percent_no_e))) + \" percent of words do not contain an 'e'\")\n"
      ],
      "metadata": {
        "colab": {
          "base_uri": "https://localhost:8080/"
        },
        "id": "Jt8ntKaFxxXk",
        "outputId": "affc48e1-3f53-44b1-ee1d-095ec3cfcc74"
      },
      "execution_count": 6,
      "outputs": [
        {
          "output_type": "stream",
          "name": "stdout",
          "text": [
            "3624 words start with 'q'\n",
            "33 percent of words do not contain an 'e'\n"
          ]
        }
      ]
    },
    {
      "cell_type": "code",
      "source": [
        "# 6. What does this do?\n",
        "import numpy as np\n",
        "wordlist = np.array(wordlist)\n",
        "alpha_list = np.array(alpha_list)\n",
        "alphabet = [chr(i) for i in range(ord('a'),ord('z')+1)] #alphabet is now a list containing every letter in the alphabet"
      ],
      "metadata": {
        "id": "1GteEC_NFaV8"
      },
      "execution_count": 7,
      "outputs": []
    },
    {
      "cell_type": "code",
      "source": [
        "#7. Make a bar graph of the number of words starting with each letter.\n",
        "\n",
        "import matplotlib.pyplot as plt\n",
        "\n",
        "#list containing the counts of words starting with each letter\n",
        "letter_count = np.zeros(26)\n",
        "for n in range(26):\n",
        "  for i in alpha_list:\n",
        "    if alphabet[n] == i[0]:\n",
        "     letter_count[n]+=1\n",
        "\n",
        "#bar graph of the number of words starting with each letter\n",
        "plt.bar(alphabet, letter_count, color='b')\n",
        "plt.ylabel(\"Number of Words\")\n",
        "plt.xlabel(\"Starting Letter of Word\")\n",
        "plt.title(\"Number of Words Starting With Each Letter\")\n",
        "plt.show()\n"
      ],
      "metadata": {
        "colab": {
          "base_uri": "https://localhost:8080/",
          "height": 472
        },
        "id": "0UZWvByDIK3Q",
        "outputId": "24f10fa0-8f18-4037-df72-d3b1cff1a489"
      },
      "execution_count": 8,
      "outputs": [
        {
          "output_type": "display_data",
          "data": {
            "text/plain": [
              "<Figure size 640x480 with 1 Axes>"
            ],
            "image/png": "[encoded data removed]"
          },
          "metadata": {}
        }
      ]
    },
    {
      "cell_type": "code",
      "source": [
        "# 8. What are the six longest words in the word list?\n",
        "longest_words = sorted(alpha_list, key=lambda x: len(x), reverse=True)\n",
        "print(longest_words[:6])\n"
      ],
      "metadata": {
        "colab": {
          "base_uri": "https://localhost:8080/"
        },
        "id": "UwZeljWVONak",
        "outputId": "287f6250-4cd0-4615-a2f5-1bf6eb61740a"
      },
      "execution_count": 16,
      "outputs": [
        {
          "output_type": "stream",
          "name": "stdout",
          "text": [
            "['antidisestablishmentarianism', 'formaldehydesulphoxylate', 'pathologicopsychological', 'scientificophilosophical', 'tetraiodophenolphthalein', 'thyroparathyroidectomize']\n"
          ]
        }
      ]
    },
    {
      "cell_type": "code",
      "source": [
        "# 9. Make a histogram of the number of words of each length.\n",
        "# Again, give the plot a title and label the axes. What is the most common length of a word in the wordlist?\n",
        "from base64 import encode\n",
        "\n",
        "word_lengths = []\n",
        "for word in alpha_list:\n",
        "  word_lengths.append(len(word))\n",
        "word_lengths = np.array(word_lengths)\n",
        "\n",
        "plt.hist(word_lengths, bins=np.arange(word_lengths.min(), word_lengths.max()+1) - 0.5)\n",
        "plt.ylabel(\"Number of Words\")\n",
        "plt.xlabel(\"Length of Word\")\n",
        "plt.title(\"Number of Words Of Each Length\")\n",
        "plt.xticks(np.arange(word_lengths.min(), word_lengths.max()+1))\n",
        "plt.show()\n",
        "\n",
        "# Finding the most common word length\n",
        "mostcommonlength = np.bincount(word_lengths).argmax()\n",
        "\n",
        "print(f\"The most common word length is: {mostcommonlength}\")"
      ],
      "metadata": {
        "colab": {
          "base_uri": "https://localhost:8080/",
          "height": 490
        },
        "id": "NkhCx98NORka",
        "outputId": "dba9578a-3d04-41cb-8acd-9c03bafa2a19"
      },
      "execution_count": 22,
      "outputs": [
        {
          "output_type": "display_data",
          "data": {
            "text/plain": [
              "<Figure size 640x480 with 1 Axes>"
            ],
            "image/png": "[encoded data removed]"
          },
          "metadata": {}
        },
        {
          "output_type": "stream",
          "name": "stdout",
          "text": [
            "The most common word length is: 9\n"
          ]
        }
      ]
    },
    {
      "cell_type": "code",
      "source": [
        "# 11. How many words contain both letters v and a? What about both w and l?\n",
        "# The letters don't have to be next to each other or in the order I gave them, just anywhere in the word.\n",
        "# How many times do you have to loop through the word list to answer this question? How long does it take to run?\n",
        "# This should appear in a tiny font under the green checkmark next to the \"run\" button after the code finishes (without errors, of course).\n",
        "\n",
        "count_va = 0\n",
        "for n in alpha_list: #only loops through once\n",
        "  if 'v' in n:\n",
        "    if 'a' in n:\n",
        "      count_va+=1\n",
        "\n",
        "print(str(count_va) + \" words that contain 'v & a'\")\n",
        "\n",
        "count_wl = 0\n",
        "for n in alpha_list: #only loops through once\n",
        "  if 'w' and 'l' in n:\n",
        "    count_wl+=1\n",
        "\n",
        "print(count_wl,\"words that contain 'w & l'\")"
      ],
      "metadata": {
        "colab": {
          "base_uri": "https://localhost:8080/"
        },
        "id": "wPeanGxjlE7J",
        "outputId": "f5df8cc2-b07c-416c-e123-52a349966ae6"
      },
      "execution_count": 14,
      "outputs": [
        {
          "output_type": "stream",
          "name": "stdout",
          "text": [
            "11347 words that contain 'v & a'\n",
            "105022 words that contain 'w & l'\n"
          ]
        }
      ]
    }
  ]
}