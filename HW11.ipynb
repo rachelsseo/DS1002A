{
  "nbformat": 4,
  "nbformat_minor": 0,
  "metadata": {
    "colab": {
      "provenance": [],
      "include_colab_link": true
    },
    "kernelspec": {
      "name": "python3",
      "display_name": "Python 3"
    },
    "language_info": {
      "name": "python"
    }
  },
  "cells": [
    {
      "cell_type": "markdown",
      "metadata": {
        "id": "view-in-github",
        "colab_type": "text"
      },
      "source": [
        "<a href=\"https://colab.research.google.com/github/rachelsseo/DS1002A/blob/main/HW11.ipynb\" target=\"_parent\"><img src=\"https://colab.research.google.com/assets/colab-badge.svg\" alt=\"Open In Colab\"/></a>"
      ]
    },
    {
      "cell_type": "markdown",
      "source": [
        "## Assignment 11\n",
        "Due Monday 15 April at noon"
      ],
      "metadata": {
        "id": "y6mGkyWrqph3"
      }
    },
    {
      "cell_type": "markdown",
      "source": [
        "### List comprehension\n",
        "\n",
        "Many of you resisted my recommendation to use list comprehensions in the previous assignment, and so my hand is forced.  You made me require it.\n",
        "\n",
        "\n",
        "Problem 1.  For each function you write below, you may assume the list being sent to the function will contain the appropriate data type.\n",
        "\n",
        "Use list comprehensions to create a function that will take a list `l` and return . . ."
      ],
      "metadata": {
        "id": "eBJulsWBngse"
      }
    },
    {
      "cell_type": "markdown",
      "source": [
        "(a) . . . a list containing the absolute value of each element of `l`"
      ],
      "metadata": {
        "id": "1h4hKDEqo5T_"
      }
    },
    {
      "cell_type": "code",
      "source": [
        "def abs_value(l):\n",
        "    return [abs(x) for x in l]\n",
        "\n",
        "og_list = [-3, 6, -9, 12, -15]\n",
        "abs_list = abs_value(og_list)\n",
        "print(abs_list)"
      ],
      "metadata": {
        "id": "LNltsHhtngLS",
        "colab": {
          "base_uri": "https://localhost:8080/"
        },
        "outputId": "0e09b06e-01e1-4e85-bd41-a63fc47ea053"
      },
      "execution_count": null,
      "outputs": [
        {
          "output_type": "stream",
          "name": "stdout",
          "text": [
            "[3, 6, 9, 12, 15]\n"
          ]
        }
      ]
    },
    {
      "cell_type": "markdown",
      "source": [
        "(b) . . . a list containing `True` for each even number in `l` and `False` for each odd number in `l`"
      ],
      "metadata": {
        "id": "mqIbzaTvpLCV"
      }
    },
    {
      "cell_type": "code",
      "source": [
        "def even_or_odd(l):\n",
        "    return [True if x % 2 == 0 else False for x in l]\n",
        "\n",
        "og_list = [3, 6, 9, 12, 15]\n",
        "result_list = even_or_odd(og_list)\n",
        "print(result_list)"
      ],
      "metadata": {
        "id": "0OTpQFX9pK0t",
        "colab": {
          "base_uri": "https://localhost:8080/"
        },
        "outputId": "4f4a849e-8d4e-43d2-86ed-ad458fbda5f0"
      },
      "execution_count": null,
      "outputs": [
        {
          "output_type": "stream",
          "name": "stdout",
          "text": [
            "[False, True, False, True, False]\n"
          ]
        }
      ]
    },
    {
      "cell_type": "markdown",
      "source": [
        "(c) . . . a list containing only the numbers in `l` that are divisible by 3"
      ],
      "metadata": {
        "id": "9yqVg2hApUY9"
      }
    },
    {
      "cell_type": "code",
      "source": [
        "def divis_by_3(l):\n",
        "    return [x for x in l if x % 3 == 0]\n",
        "\n",
        "og_list = [3, 6, 9, 12, 15, 18, 21, 24, 27, 30]\n",
        "result_list = divis_by_3(og_list)\n",
        "print(result_list)"
      ],
      "metadata": {
        "id": "2mP_1aYZpUF4",
        "colab": {
          "base_uri": "https://localhost:8080/"
        },
        "outputId": "c5bec611-1e31-4bc1-8996-42ae504df755"
      },
      "execution_count": null,
      "outputs": [
        {
          "output_type": "stream",
          "name": "stdout",
          "text": [
            "[3, 6, 9, 12, 15, 18, 21, 24, 27, 30]\n"
          ]
        }
      ]
    },
    {
      "cell_type": "markdown",
      "source": [
        "(d) . . . a list containing only the words in `l` whose first and last letters are the same"
      ],
      "metadata": {
        "id": "2yClgYZupef1"
      }
    },
    {
      "cell_type": "code",
      "source": [
        "def first_and_last(l):\n",
        "    return [word for word in l if len(word) > 1 and word[0] == word[-1]]\n",
        "\n",
        "og_list = [\"bib\", \"ripple\", \"ride\", \"mango\", \"gear\", \"bear\"]\n",
        "result_list = first_and_last(og_list)\n",
        "print(result_list)"
      ],
      "metadata": {
        "id": "-l7XnemMpeCi",
        "colab": {
          "base_uri": "https://localhost:8080/"
        },
        "outputId": "ecba8d78-c962-42e5-a109-e5e732c91729"
      },
      "execution_count": null,
      "outputs": [
        {
          "output_type": "stream",
          "name": "stdout",
          "text": [
            "['bib']\n"
          ]
        }
      ]
    },
    {
      "cell_type": "markdown",
      "source": [
        "(e) . . . a list containing the first letter of each word in `l` that ends with a vowel"
      ],
      "metadata": {
        "id": "1mqMysFKppZS"
      }
    },
    {
      "cell_type": "code",
      "source": [
        "def ends_with_vowel(l):\n",
        "    vowels = \"aeiouAEIOU\"\n",
        "    return [word[0] for word in l if word[-1] in vowels]\n",
        "\n",
        "og_list = [\"football\", \"field hockey\", \"lacrosse\", \"dance\", \"ice skating\"]\n",
        "result_list = ends_with_vowel(og_list)\n",
        "print(result_list)"
      ],
      "metadata": {
        "id": "1Gi3andbppDc",
        "colab": {
          "base_uri": "https://localhost:8080/"
        },
        "outputId": "5764628b-e4d0-4a58-c599-f09a9ba2baa6"
      },
      "execution_count": null,
      "outputs": [
        {
          "output_type": "stream",
          "name": "stdout",
          "text": [
            "['l', 'd']\n"
          ]
        }
      ]
    },
    {
      "cell_type": "markdown",
      "source": [
        "### Multiplication as a recursive process\n",
        "Problem 2.  Write a recursive function that computes the product of two positive integers `a` and `b` by adding `a` to itself `b` times.\n",
        "\n",
        "Hints:  \n",
        "1. if `b=1` then the product is `a`.\n",
        "2. if `b>1` then the product is what you get by adding `a` to `a * (b-1)`.\n",
        "\n",
        "Note:  the purpose of this exercise is to practice writing recursive functions.  Of course you can trivially ask for `a*b` and get the correct answer but that is worth no points.  Your function should not use any multiplications.\n"
      ],
      "metadata": {
        "id": "iV4ysawxjsiE"
      }
    },
    {
      "cell_type": "code",
      "execution_count": null,
      "metadata": {
        "id": "wc9Y1d7ejrvH",
        "colab": {
          "base_uri": "https://localhost:8080/"
        },
        "outputId": "c779b56f-31df-44e7-b147-e273a16ca27e"
      },
      "outputs": [
        {
          "output_type": "stream",
          "name": "stdout",
          "text": [
            "110\n"
          ]
        }
      ],
      "source": [
        "def product(a, b):\n",
        "    if b == 0:\n",
        "        return 0\n",
        "    return a + product(a, b - 1)\n",
        "\n",
        "a = 22\n",
        "b = 5\n",
        "result = product(a, b)\n",
        "print(result)"
      ]
    },
    {
      "cell_type": "markdown",
      "source": [
        "### Division as a recursive process\n",
        "\n",
        "Problem 3:  Write a recursive function that takes two positive integers `a` and `b` and returns the quotient `q` and remainder `r` obtained when `a` is divided by `b`.\n",
        "\n",
        "Hints:  \n",
        "1. If `a<b` then what should `q` and `r` be?\n",
        "\n",
        "2. If `a>b` then think about how `q` and `r` are related to the values you would get from dividing `a-b` by `b`."
      ],
      "metadata": {
        "id": "A5xI1LxDkxn0"
      }
    },
    {
      "cell_type": "code",
      "source": [
        "def divide(a, b):\n",
        "    if a < b:\n",
        "        return (0, a)\n",
        "    q, r = divide(a - b, b)\n",
        "    return (q + 1, r)\n",
        "\n",
        "a = 21\n",
        "b = 7\n",
        "quotient, remainder = divide(a, b)\n",
        "print(quotient, remainder)"
      ],
      "metadata": {
        "id": "_3aRmkgJkxUW",
        "colab": {
          "base_uri": "https://localhost:8080/"
        },
        "outputId": "7c4c27f5-4162-4504-9c51-7e2315b7ba9c"
      },
      "execution_count": null,
      "outputs": [
        {
          "output_type": "stream",
          "name": "stdout",
          "text": [
            "3 0\n"
          ]
        }
      ]
    },
    {
      "cell_type": "markdown",
      "source": [
        "### The dot product of two vectors\n",
        "\n",
        "Problem 4.  Write a recursive function `dot()` that takes two lists of numbers, of equal length, and returns the sum of the products of the elements of the same index from each list. For example, if `V=[1,2,3]` and `W=[4,5,6]` then the function should return the value $(1 \\cdot 4) + (2\\cdot 5) + (3\\cdot 6)$, which equals 32.  In physics and linear algebra, this is called the \"dot product\" of the vectors `V` and `W`.\n",
        "\n",
        "Other examples:\n",
        "```\n",
        "dot([3],[4])\n",
        "12\n",
        "\n",
        "dot([1,1,0],[2,7,17])\n",
        "9\n",
        "```\n",
        "Hints:\n",
        "1. How is `dot(V,W)` related to `dot(V[1:],W[1:])`?\n",
        "2. What should happen if the lists are empty?"
      ],
      "metadata": {
        "id": "OkBK7gvglJ3u"
      }
    },
    {
      "cell_type": "code",
      "source": [
        "def dot(list1, list2):\n",
        "    if not list1 or not list2:\n",
        "        return 0\n",
        "    return (list1[0] * list2[0]) + dot(list1[1:], list2[1:])\n",
        "\n",
        "list1 = [2, 4, 6, 8]\n",
        "list2 = [5, 10, 15, 20]\n",
        "result = dot(list1, list2)\n",
        "print(result)"
      ],
      "metadata": {
        "id": "LZXs6lkslJqm",
        "colab": {
          "base_uri": "https://localhost:8080/"
        },
        "outputId": "ba118264-5b6b-4430-8eed-b50a20fafecc"
      },
      "execution_count": null,
      "outputs": [
        {
          "output_type": "stream",
          "name": "stdout",
          "text": [
            "300\n"
          ]
        }
      ]
    }
  ]
}