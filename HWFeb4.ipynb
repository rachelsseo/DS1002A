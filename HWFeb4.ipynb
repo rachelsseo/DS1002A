{
  "nbformat": 4,
  "nbformat_minor": 0,
  "metadata": {
    "colab": {
      "provenance": [],
      "include_colab_link": true
    },
    "kernelspec": {
      "name": "python3",
      "display_name": "Python 3"
    },
    "language_info": {
      "name": "python"
    }
  },
  "cells": [
    {
      "cell_type": "markdown",
      "metadata": {
        "id": "view-in-github",
        "colab_type": "text"
      },
      "source": [
        "<a href=\"https://colab.research.google.com/github/rachelsseo/DS1002A/blob/main/HWFeb4.ipynb\" target=\"_parent\"><img src=\"https://colab.research.google.com/assets/colab-badge.svg\" alt=\"Open In Colab\"/></a>"
      ]
    },
    {
      "cell_type": "markdown",
      "source": [
        "## DS 1002 homework due Sunday Feb 4 at 10 pm\n"
      ],
      "metadata": {
        "id": "zAw2bmn-TjFJ"
      }
    },
    {
      "cell_type": "markdown",
      "source": [
        "\n",
        "The notebook from Wednesday's class is in my GitHib repository, including the little script we wrote at the end to find mangos in a list of fruit.  The file is called `MorePythonBasics.ipynb`.\n",
        "\n",
        "(By the way I wondered if the correct spelling was \"mangos\" or \"mangoes\" and I found [this](https://www.mango.org/blog-mangos-or-mangoes/)!  Who knew?  There's a National Mango Board!  And they're prepared to adjudicate this and other difficult mango-related questions.)\n",
        "\n",
        "\n"
      ],
      "metadata": {
        "id": "Cmf4xleCSWCu"
      }
    },
    {
      "cell_type": "markdown",
      "source": [
        "### Problem 1:  finding fruit\n",
        "\n",
        "Adapt the function we wrote in class so that it takes two arguments,\n",
        "\n",
        "`fruit` and `hungryfor` ,\n",
        "\n",
        "and then searches through the list `fruit` for the item `hungryfor`.  The line that calls the function should look like\n",
        "\n",
        "`find_fruit(food, hungryfor)`\n",
        "\n",
        "Make it print out the results in the same way, so for example if `food` is what we entered in class and `hungryfor = \"tomatoes\"` then the output will be\n",
        "\n",
        "```python\n",
        "No tomatoes here.\n",
        "No tomatoes here.\n",
        "No tomatoes here.\n",
        "No tomatoes here.\n",
        "No tomatoes here.\n",
        "```\n",
        "Test your code by changing the values of `food` and `hungryfor` and make sure the output is what you expect.  Show a few outputs, each in its own code chunk.\n",
        "\n"
      ],
      "metadata": {
        "id": "rJLyGryAThhp"
      }
    },
    {
      "cell_type": "code",
      "source": [
        "# put code here"
      ],
      "metadata": {
        "id": "a07kDF7h3MJN"
      },
      "execution_count": null,
      "outputs": []
    },
    {
      "cell_type": "code",
      "source": [
        "#1st function call\n",
        "\n",
        "fruit = [ \"apples\", \"oranges\", \"mangos\", \"banana\", \"blueberries\"]\n",
        "food = [\"steak\", \"spaghetti\", \"shrimp\", \"shallot\", \"scallion\"]\n",
        "hungryfor = \"shrimp\"\n",
        "\n",
        "def find_fruit(food, hungryfor):\n",
        "  for f in food:\n",
        "    if f == \"shrimp\" :\n",
        "      print(\"Hooray! I found shrimp.\")\n",
        "    else:\n",
        "      print (\"No shrimp here.\")\n",
        "\n",
        "\n",
        "find_fruit(food, hungryfor)"
      ],
      "metadata": {
        "id": "YXwLLFCt6H2f",
        "colab": {
          "base_uri": "https://localhost:8080/"
        },
        "outputId": "1333bfc6-0b15-44d9-bd1f-61c9d7fb8993"
      },
      "execution_count": 4,
      "outputs": [
        {
          "output_type": "stream",
          "name": "stdout",
          "text": [
            "No shrimp here.\n",
            "No shrimp here.\n",
            "Hooray! I found shrimp.\n",
            "No shrimp here.\n",
            "No shrimp here.\n"
          ]
        }
      ]
    },
    {
      "cell_type": "code",
      "source": [
        "#2nd function call\n",
        "\n",
        "fruit = [ \"apples\", \"oranges\", \"mangos\", \"banana\", \"blueberries\"]\n",
        "food = [\"ramen\", \"ratatouille\", \"ravioli\", \"rice\"]\n",
        "hungryfor = \"rice\"\n",
        "\n",
        "for f in food:\n",
        "    if f == \"rice\" :\n",
        "      print(\"Hooray! I found rice.\")\n",
        "    else:\n",
        "      print (\"No rice here.\")"
      ],
      "metadata": {
        "id": "bYdqsfrh6KnE",
        "colab": {
          "base_uri": "https://localhost:8080/"
        },
        "outputId": "085d0735-13f4-4a05-dc45-b51d7bab5a9c"
      },
      "execution_count": 8,
      "outputs": [
        {
          "output_type": "stream",
          "name": "stdout",
          "text": [
            "No rice here.\n",
            "No rice here.\n",
            "No rice here.\n",
            "Hooray! I found rice.\n"
          ]
        }
      ]
    },
    {
      "cell_type": "markdown",
      "source": [
        "#### Notes\n",
        "1. Once you have run a code chunk in the notebook, it will remember that it has been run.  You don't have to call the function in the same code chunk where the function is defined.  In other words, to call the function with new inputs you can simply make a new code chunk, change the inputs, and call the function.  *You don't have to retype the definition of the function each time.*\n",
        "\n",
        "2. Make sure you clean things up when you're done, so you don't include old code that doesn't work or old incorrect outputs.\n"
      ],
      "metadata": {
        "id": "AMp-a1ym6W7w"
      }
    },
    {
      "cell_type": "markdown",
      "source": [
        "### Problem 2:  the `input()` function\n",
        "\n",
        "(a) Programming gets way more fun when you start to interact with your own programs!  Here is a function that lets you start doing that.  Run the following code and see what happens:\n"
      ],
      "metadata": {
        "id": "R-s9cZ6GYWNX"
      }
    },
    {
      "cell_type": "code",
      "source": [
        "input()\n",
        "print(\"Hello there!\")"
      ],
      "metadata": {
        "id": "IEK8O2qNYkXn",
        "colab": {
          "base_uri": "https://localhost:8080/"
        },
        "outputId": "b95880e3-0926-42fe-f0ff-12af8735966f"
      },
      "execution_count": 9,
      "outputs": [
        {
          "output_type": "stream",
          "name": "stdout",
          "text": [
            "hi\n",
            "Hello there!\n"
          ]
        }
      ]
    },
    {
      "cell_type": "markdown",
      "source": [
        "(b) As you just saw, the code waits for you to enter something before it continues.  If you want to actually use the input in the code, you should assign its value to a variable:"
      ],
      "metadata": {
        "id": "sktZu8wWzFF6"
      }
    },
    {
      "cell_type": "code",
      "source": [
        "message = input()\n",
        "print(message)"
      ],
      "metadata": {
        "id": "fMmBkzbyz9Ty",
        "colab": {
          "base_uri": "https://localhost:8080/"
        },
        "outputId": "6fefccee-f8ac-4431-a3fc-3c57010eaabc"
      },
      "execution_count": 10,
      "outputs": [
        {
          "output_type": "stream",
          "name": "stdout",
          "text": [
            "hi\n",
            "hi\n"
          ]
        }
      ]
    },
    {
      "cell_type": "markdown",
      "source": [
        "(c) Now you can start interacting.  Write some code that asks the user what they are hungry for (using a print statement), and then takes the user input, and then runs the `find_fruit` function from the previous code block using the user input as the `hungryfor` variable.  Test your code, and then include a few different outputs that demonstrate that the code works."
      ],
      "metadata": {
        "id": "ny41z-dQYmjQ"
      }
    },
    {
      "cell_type": "code",
      "source": [
        "# 1st run\n",
        "\n",
        "print(\"What are you hungry for?\")\n",
        "hungryfor = input()\n",
        "\n",
        "for f in food:\n",
        "    if f == hungryfor :\n",
        "      print (\"Hooray! I found \" + hungryfor)\n",
        "      print\n",
        "    else:\n",
        "      print (\"No \" + hungryfor + \" here.\")\n",
        "\n"
      ],
      "metadata": {
        "id": "SKAVoAZ00xOx",
        "colab": {
          "base_uri": "https://localhost:8080/"
        },
        "outputId": "73bf2045-80b0-43ee-b1d0-307913969ad2"
      },
      "execution_count": 30,
      "outputs": [
        {
          "output_type": "stream",
          "name": "stdout",
          "text": [
            "What are you hungry for?\n",
            "raspberry\n",
            "No raspberry here.\n",
            "No raspberry here.\n",
            "No raspberry here.\n",
            "No raspberry here.\n"
          ]
        }
      ]
    },
    {
      "cell_type": "code",
      "source": [
        "# 2nd run\n",
        "\n",
        "print(\"What are you hungry for?\")\n",
        "hungryfor = input()\n",
        "\n",
        "for f in food:\n",
        "    if f == hungryfor :\n",
        "      print (\"Hooray! I found \" + hungryfor)\n",
        "      print\n",
        "    else:\n",
        "      print (\"No \" + hungryfor + \" here.\")\n"
      ],
      "metadata": {
        "id": "sQQVP1oa5dR7",
        "colab": {
          "base_uri": "https://localhost:8080/"
        },
        "outputId": "2e56cc62-a491-435b-9cac-86f7e0d21d78"
      },
      "execution_count": 31,
      "outputs": [
        {
          "output_type": "stream",
          "name": "stdout",
          "text": [
            "What are you hungry for?\n",
            "rice\n",
            "No rice here.\n",
            "No rice here.\n",
            "No rice here.\n",
            "Hooray! I found rice\n"
          ]
        }
      ]
    },
    {
      "cell_type": "markdown",
      "source": [
        "### Problem 3:  ratings  \n",
        "Write a piece of code which prompts a user with the question \"What is your rating? (1-10)\" and then asks for user input.  Let's say the input is 3.  Once the input is received, print out a message that says.\n",
        "\n",
        "\"Your rating is *** .\"\n",
        "\n",
        "Obviously, your program should print the number of stars corresponding to the input!  If the input is 5, it should print\n",
        "\n",
        "\"Your rating is ***** .\"\n",
        "\n",
        "Show at least two outputs of your code."
      ],
      "metadata": {
        "id": "5CWOlHBz0xoZ"
      }
    },
    {
      "cell_type": "code",
      "source": [
        "# 1st run\n",
        "\n",
        "print (\"What is your rating? (1-10)\")\n",
        "rating = input()\n",
        "\n",
        "print (\"Your rating is \" + rating )"
      ],
      "metadata": {
        "id": "MCWnTAUW2Gin",
        "colab": {
          "base_uri": "https://localhost:8080/"
        },
        "outputId": "92ae96be-5cd8-46fd-f5f1-a68c51dac52e"
      },
      "execution_count": 32,
      "outputs": [
        {
          "output_type": "stream",
          "name": "stdout",
          "text": [
            "What is your rating? (1-10)\n",
            "5\n",
            "Your rating is 5\n"
          ]
        }
      ]
    },
    {
      "cell_type": "code",
      "source": [
        "# 2nd run\n",
        "\n",
        "print (\"What is your rating? (1-10)\")\n",
        "rating = input()\n",
        "\n",
        "print (\"Your rating is \" + rating )"
      ],
      "metadata": {
        "id": "nxm67oCk8Ukn"
      },
      "execution_count": null,
      "outputs": []
    },
    {
      "cell_type": "code",
      "source": [
        "# 3 run\n",
        "\n",
        "print (\"What is your rating? (1-10)\")\n",
        "rating = input()\n",
        "rating == int or float\n",
        "\n",
        "print (\"Your rating is \" + rating)"
      ],
      "metadata": {
        "colab": {
          "base_uri": "https://localhost:8080/"
        },
        "id": "nnfEeL1-ZLGI",
        "outputId": "1cb5a322-e17b-41fa-8e11-74df597a17ac"
      },
      "execution_count": 35,
      "outputs": [
        {
          "output_type": "stream",
          "name": "stdout",
          "text": [
            "What is your rating? (1-10)\n",
            "-12\n",
            "Your rating is -12\n"
          ]
        }
      ]
    },
    {
      "cell_type": "markdown",
      "source": [
        "You do not have to do this as part of the assignment, but one thing to think about with any code that has **interactivity** is that you want to make it **robust**.  This means you should imagine someone is *trying* to break your code, and you should try to make it as indestructible as possible.\n",
        "\n",
        "What will happen to your code if someone enters 3.5?  Or -12?  Or \"nonsense\"?  Test it and see.  Think about how you might guard against errors.\n"
      ],
      "metadata": {
        "id": "VRfc9puT2yac"
      }
    }
  ]
}